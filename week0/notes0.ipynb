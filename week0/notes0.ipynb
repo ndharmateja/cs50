{
 "cells": [
  {
   "cell_type": "markdown",
   "id": "08cec234-d6df-44d4-9522-ca43233e280c",
   "metadata": {},
   "source": [
    "# Intro\n",
    "- Base 2\n",
    "    - Bit <=> Binary Digit\n",
    "    - 0 or 1\n",
    "    - each can be represented using switches/transistors\n",
    "        - 0 is off\n",
    "        - 1 is on\n",
    "    - Eg\n",
    "        - $010_2 = 0 * 2^2 + 1 * 2^1 + 0 * 2^0 = 2$\n",
    "        - $110_2 = 1 * 2^2 + 1 * 2^1 + 0 * 2^0 = 6$\n",
    "        - $111_2 = 1 * 2^2 + 1 * 2^1 + 1 * 2^0 = 7$\n",
    "    - 1 byte = 8 bits\n",
    "        - $11111111_2 = 255_{10}$\n",
    "- Representing alphabets using binary\n",
    "    - ASCII\n",
    "    - A is 65, B is 66, C is 67, ... ,  Z is 90\n",
    "        - $A = 01000001_2 = 64 + 1 = 65$\n",
    "        - $B = 01000010_2 = 64 + 2 = 66$\n",
    "    - 1 is 49, 2 is 50, ... , 9 is 57 "
   ]
  },
  {
   "cell_type": "markdown",
   "id": "5852d106-dc13-48a0-806a-d59b01f59ee1",
   "metadata": {},
   "source": []
  },
  {
   "cell_type": "markdown",
   "id": "ac8035b8-b7c8-4355-8126-0c43d682fa77",
   "metadata": {},
   "source": []
  },
  {
   "cell_type": "markdown",
   "id": "bb4f63ba-8a4d-4f1a-9cc0-ab13406d2389",
   "metadata": {},
   "source": []
  },
  {
   "cell_type": "markdown",
   "id": "f67d3246-6c9d-4c42-bc84-ed3537172ab0",
   "metadata": {},
   "source": []
  }
 ],
 "metadata": {
  "kernelspec": {
   "display_name": "Python 3 (ipykernel)",
   "language": "python",
   "name": "python3"
  },
  "language_info": {
   "codemirror_mode": {
    "name": "ipython",
    "version": 3
   },
   "file_extension": ".py",
   "mimetype": "text/x-python",
   "name": "python",
   "nbconvert_exporter": "python",
   "pygments_lexer": "ipython3",
   "version": "3.10.13"
  }
 },
 "nbformat": 4,
 "nbformat_minor": 5
}
