{
 "cells": [
  {
   "cell_type": "markdown",
   "id": "87fb8e92",
   "metadata": {},
   "source": [
    "# Intro\n",
    "## Binary\n",
    "- Bit <=> Binary Digit\n",
    "- 0 or 1\n",
    "- each can be represented using switches/transistors\n",
    "    - 0 is off\n",
    "    - 1 is on\n",
    "- Eg\n",
    "    - $010_2 = 0 * 2^2 + 1 * 2^1 + 0 * 2^0 = 2$\n",
    "    - $110_2 = 1 * 2^2 + 1 * 2^1 + 0 * 2^0 = 6$\n",
    "    - $111_2 = 1 * 2^2 + 1 * 2^1 + 1 * 2^0 = 7$\n",
    "- 1 byte = 8 bits\n",
    "    - $11111111_2 = 255_{10}$"
   ]
  },
  {
   "cell_type": "markdown",
   "id": "611838fd",
   "metadata": {},
   "source": [
    "## Representing different kinds of data\n",
    "### 1. Alphabets\n",
    "- ASCII\n",
    "    - A is 65, B is 66, C is 67, ... ,  Z is 90\n",
    "        - $A = 01000001_2 = 64 + 1 = 65$\n",
    "        - $B = 01000010_2 = 64 + 2 = 66$\n",
    "    - number characters\n",
    "        - 1 is 49, 2 is 50, ... , 9 is 57 etc\n",
    "    - can only represent 256 total characters as 1 byte\n",
    "    - cannot represent emojis, accented chars, other languages etc \n",
    "        - => solution is **Unicode**\n",
    "- Unicode\n",
    "    - to capture all forms of human language\n",
    "    - 32 bit\n",
    "    - Emojis\n",
    "        - the same emoji can look different on iOS and Android\n",
    "        - even though same 32 bits because of font\n",
    "        - emojis with skin tones\n",
    "            - 5 skin tones but structurally the same\n",
    "            - instead of using 5 different complete 32 bit numbers, we just use (reusable) patterns to represent skin tone\n",
    "        - two people + symbol on top emojis, eg: 💑\n",
    "            - one set of chars for left person\n",
    "            - one set of chars for right person\n",
    "            - one set of chars for emoji\n",
    "            - and assemble them using composition\n",
    "            - instead of having one set for every different combination"
   ]
  },
  {
   "cell_type": "markdown",
   "id": "08cec234-d6df-44d4-9522-ca43233e280c",
   "metadata": {},
   "source": [
    "### 2. Images\n",
    "- using RGB values\n",
    "- each of red, green and blue are represented by 1 byte each\n",
    "    - => 3 bytes for each pixel\n",
    "- video is \n",
    "    - set of images\n",
    "    - each pixel's RGB values keeps changing\n",
    "### 3. Sound/music notes\n",
    "- we can quantize frequency, duration, how loud/soft etc\n",
    "- Eg: midi, mp3, aac etc\n",
    "    "
   ]
  },
  {
   "cell_type": "markdown",
   "id": "49458552",
   "metadata": {},
   "source": [
    "# Abstraction\n",
    "- Simplification\n",
    "    - not focussing on the low level implementation details\n",
    "    - but focussing on the high level goals / process"
   ]
  },
  {
   "cell_type": "markdown",
   "id": "d83c70a3",
   "metadata": {},
   "source": [
    "# Pseudocode\n",
    "- components\n",
    "    - actions/verbs as functions\n",
    "    - conditionals\n",
    "    - boolean expressions\n",
    "    - loops\n",
    "    - variables"
   ]
  },
  {
   "cell_type": "markdown",
   "id": "2f9d3e7a",
   "metadata": {},
   "source": [
    "# Scratch\n",
    "- GUI programming with building blocks\n",
    "- components\n",
    "    - motion blocks\n",
    "    - 2D world\n",
    "    - event listeners\n"
   ]
  }
 ],
 "metadata": {
  "kernelspec": {
   "display_name": "Python 3 (ipykernel)",
   "language": "python",
   "name": "python3"
  },
  "language_info": {
   "codemirror_mode": {
    "name": "ipython",
    "version": 3
   },
   "file_extension": ".py",
   "mimetype": "text/x-python",
   "name": "python",
   "nbconvert_exporter": "python",
   "pygments_lexer": "ipython3",
   "version": "3.10.13"
  }
 },
 "nbformat": 4,
 "nbformat_minor": 5
}
